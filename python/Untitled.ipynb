{
 "cells": [
  {
   "cell_type": "code",
   "execution_count": 2,
   "metadata": {},
   "outputs": [],
   "source": [
    "import CrowdComm\n",
    "from CrowdComm.proto import *\n",
    "from CrowdComm.containable import ContainableT as CT\n",
    "from CrowdComm.numerable import NumerableT as NT\n",
    "import pdb"
   ]
  },
  {
   "cell_type": "code",
   "execution_count": 4,
   "metadata": {},
   "outputs": [],
   "source": [
    "with open(\"../model/proto/4-way-oncomming-square-obstacle.proto\", \"rb\") as f:\n",
    "    w = World.FromString(f.read())"
   ]
  },
  {
   "cell_type": "code",
   "execution_count": 5,
   "metadata": {
    "scrolled": false
   },
   "outputs": [],
   "source": [
    "def bookkeep(world):\n",
    "    d = {}\n",
    "    d.update({a.id: a for a in world.agents})\n",
    "    d.update({c.id: c for c in world.cubes})\n",
    "    return d\n",
    "\n",
    "d = bookkeep(w)"
   ]
  },
  {
   "cell_type": "code",
   "execution_count": 6,
   "metadata": {},
   "outputs": [],
   "source": [
    "class NumF(metaclass=NT):\n",
    "    pass\n",
    "\n",
    "class Vec3(metaclass=CT):\n",
    "    def ChildrenDefs(self):\n",
    "        self.defattr(\"x\", NumF)\n",
    "        self.defattr(\"y\", NumF)\n",
    "        self.defattr(\"z\", NumF)       \n",
    "        \n",
    "class AgentData(metaclass=CT):\n",
    "    def ChildrenDefs(self):\n",
    "        self.defattr(\"forwards\", Vec3)\n",
    "        self.defattr(\"location\", Vec3)\n",
    "        self.defattr(\"velocity\", Vec3)\n",
    "        self.defattr(\"target\", Vec3)\n",
    "        \n",
    "class Agent(metaclass=CT):\n",
    "    def ChildrenDefs(self):\n",
    "        self.defattr(\"data\", AgentData)"
   ]
  },
  {
   "cell_type": "code",
   "execution_count": 7,
   "metadata": {},
   "outputs": [],
   "source": [
    "agent1 = Agent('ba3230633e112dc26d6c92b055b3a307', d, CrowdComm.universe.DelegateMethod.BY_IDX)\n",
    "agent2 = Agent('7d3209aefe431134200585f4ed8972a4', d, CrowdComm.universe.DelegateMethod.BY_IDX)"
   ]
  },
  {
   "cell_type": "code",
   "execution_count": 8,
   "metadata": {},
   "outputs": [
    {
     "ename": "NameError",
     "evalue": "name 'agent' is not defined",
     "output_type": "error",
     "traceback": [
      "\u001b[0;31m---------------------------------------------------------------------------\u001b[0m",
      "\u001b[0;31mNameError\u001b[0m                                 Traceback (most recent call last)",
      "\u001b[0;32m<ipython-input-8-3d0135597548>\u001b[0m in \u001b[0;36m<module>\u001b[0;34m\u001b[0m\n\u001b[0;32m----> 1\u001b[0;31m \u001b[0mdir\u001b[0m\u001b[0;34m(\u001b[0m\u001b[0magent\u001b[0m\u001b[0;34m.\u001b[0m\u001b[0mdata\u001b[0m\u001b[0;34m.\u001b[0m\u001b[0mlocation\u001b[0m\u001b[0;34m)\u001b[0m\u001b[0;34m\u001b[0m\u001b[0;34m\u001b[0m\u001b[0m\n\u001b[0m",
      "\u001b[0;31mNameError\u001b[0m: name 'agent' is not defined"
     ]
    }
   ],
   "source": [
    "dir(agent.data.location)"
   ]
  },
  {
   "cell_type": "code",
   "execution_count": 9,
   "metadata": {},
   "outputs": [],
   "source": [
    "agent1.data.target.x.assign(10)"
   ]
  },
  {
   "cell_type": "code",
   "execution_count": 10,
   "metadata": {},
   "outputs": [],
   "source": [
    "agent = CrowdComm.proto.Agent()"
   ]
  },
  {
   "cell_type": "code",
   "execution_count": 11,
   "metadata": {},
   "outputs": [],
   "source": [
    "a = agent.queries[\"happy\"]"
   ]
  },
  {
   "cell_type": "code",
   "execution_count": 12,
   "metadata": {},
   "outputs": [
    {
     "data": {
      "text/plain": [
       "['__class__',\n",
       " '__deepcopy__',\n",
       " '__delattr__',\n",
       " '__delitem__',\n",
       " '__dir__',\n",
       " '__doc__',\n",
       " '__eq__',\n",
       " '__format__',\n",
       " '__ge__',\n",
       " '__getattribute__',\n",
       " '__getitem__',\n",
       " '__gt__',\n",
       " '__hash__',\n",
       " '__init__',\n",
       " '__init_subclass__',\n",
       " '__le__',\n",
       " '__len__',\n",
       " '__lt__',\n",
       " '__ne__',\n",
       " '__new__',\n",
       " '__reduce__',\n",
       " '__reduce_ex__',\n",
       " '__repr__',\n",
       " '__setattr__',\n",
       " '__setitem__',\n",
       " '__sizeof__',\n",
       " '__str__',\n",
       " '__subclasshook__',\n",
       " 'append',\n",
       " 'extend',\n",
       " 'insert',\n",
       " 'pop',\n",
       " 'remove',\n",
       " 'sort']"
      ]
     },
     "execution_count": 12,
     "metadata": {},
     "output_type": "execute_result"
    }
   ],
   "source": [
    "dir(a.args)"
   ]
  },
  {
   "cell_type": "code",
   "execution_count": 13,
   "metadata": {},
   "outputs": [
    {
     "ename": "IndexError",
     "evalue": "list assignment index (0) out of range",
     "output_type": "error",
     "traceback": [
      "\u001b[0;31m---------------------------------------------------------------------------\u001b[0m",
      "\u001b[0;31mIndexError\u001b[0m                                Traceback (most recent call last)",
      "\u001b[0;32m<ipython-input-13-a682a05fd9f7>\u001b[0m in \u001b[0;36m<module>\u001b[0;34m\u001b[0m\n\u001b[0;32m----> 1\u001b[0;31m \u001b[0magent\u001b[0m\u001b[0;34m.\u001b[0m\u001b[0mqueries\u001b[0m\u001b[0;34m[\u001b[0m\u001b[0;34m'happy'\u001b[0m\u001b[0;34m]\u001b[0m\u001b[0;34m.\u001b[0m\u001b[0margs\u001b[0m\u001b[0;34m[\u001b[0m\u001b[0;36m0\u001b[0m\u001b[0;34m]\u001b[0m \u001b[0;34m=\u001b[0m \u001b[0;36m2\u001b[0m\u001b[0;34m\u001b[0m\u001b[0;34m\u001b[0m\u001b[0m\n\u001b[0m",
      "\u001b[0;31mIndexError\u001b[0m: list assignment index (0) out of range"
     ]
    }
   ],
   "source": [
    "agent.queries['happy'].args[0] = 2"
   ]
  },
  {
   "cell_type": "code",
   "execution_count": 14,
   "metadata": {},
   "outputs": [],
   "source": [
    "a = lambda : agent.data.location.x"
   ]
  },
  {
   "cell_type": "code",
   "execution_count": 52,
   "metadata": {
    "scrolled": true
   },
   "outputs": [],
   "source": [
    "# %load ~/upd.py\n",
    "class AgentSyms:\n",
    "    class data:                                                                 \n",
    "        class location:                                                         \n",
    "            x = 'AGENTSYMS_DATA_LOCATION_X'\n",
    "            y = 'AGENTSYMS_DATA_LOCATION_Y'\n",
    "            z = 'AGENTSYMS_DATA_LOCATION_Z'\n",
    "        class velocity:                                                         \n",
    "            x = 'AGENTSYMS_DATA_VELOCITY_X'\n",
    "            y = 'AGENTSYMS_DATA_VELOCITY_Y'\n",
    "            z = 'AGENTSYMS_DATA_VELOCITY_Z'\n",
    "        class forwards:                                                         \n",
    "            x = 'AGENTSYMS_DATA_FORWARDS_X'\n",
    "            y = 'AGENTSYMS_DATA_FORWARDS_Y'\n",
    "            z = 'AGENTSYMS_DATA_FORWARDS_Z'\n",
    "        class target:                                                           \n",
    "            x = 'AGENTSYMS_DATA_TARGET_X'\n",
    "            y = 'AGENTSYMS_DATA_TARGET_Y'\n",
    "            z = 'AGENTSYMS_DATA_TARGET_Z'\n",
    "    class queries:\n",
    "        pass\n",
    "    \n",
    "_agent = CrowdComm.proto.Agent()\n",
    "_value = _agent\n",
    "\n",
    "_dget = {\n",
    "        AgentSyms.data.location.x: (lambda :_agent.data.location.x),\n",
    "        AgentSyms.data.location.y: (lambda :_agent.data.location.y),\n",
    "        AgentSyms.data.location.z: (lambda :_agent.data.location.z),\n",
    "        AgentSyms.data.velocity.x: (lambda :_agent.data.velocity.x),\n",
    "        AgentSyms.data.velocity.y: (lambda :_agent.data.velocity.y),\n",
    "        AgentSyms.data.velocity.z: (lambda :_agent.data.velocity.z),\n",
    "        AgentSyms.data.forwards.x: (lambda :_agent.data.forwards.x),\n",
    "        AgentSyms.data.forwards.y: (lambda :_agent.data.forwards.y),\n",
    "        AgentSyms.data.forwards.z: (lambda :_agent.data.forwards.z),\n",
    "        AgentSyms.data.target.x:   (lambda :_agent.data.target.x),\n",
    "        AgentSyms.data.target.y:   (lambda :_agent.data.target.y),\n",
    "        AgentSyms.data.target.z:   (lambda :_agent.data.target.z),\n",
    "    }\n",
    "\n",
    "_dset = {\n",
    "        AgentSyms.data.location.x: lambda : exec('_agent.data.location.x = _value'),\n",
    "        AgentSyms.data.location.y: lambda : exec('_agent.data.location.y = _value'),\n",
    "        AgentSyms.data.location.z: lambda : exec('_agent.data.location.z = _value'),\n",
    "        AgentSyms.data.velocity.x: lambda : exec('_agent.data.velocity.x = _value'),\n",
    "        AgentSyms.data.velocity.y: lambda : exec('_agent.data.velocity.y = _value'),\n",
    "        AgentSyms.data.velocity.z: lambda : exec('_agent.data.velocity.z = _value'),\n",
    "        AgentSyms.data.forwards.x: lambda : exec('_agent.data.forwards.x = _value'),\n",
    "        AgentSyms.data.forwards.y: lambda : exec('_agent.data.forwards.y = _value'),\n",
    "        AgentSyms.data.forwards.z: lambda : exec('_agent.data.forwards.z = _value'),\n",
    "        AgentSyms.data.target.x:   lambda : exec('_agent.data.target.x   = _value'),\n",
    "        AgentSyms.data.target.y:   lambda : exec('_agent.data.target.y   = _value'),\n",
    "        AgentSyms.data.target.z:   lambda : exec('_agent.data.target.z   = _value'),\n",
    "    }\n",
    "class AgentSymsDataUpdat:\n",
    "    def updateSyms(proto):\n",
    "        _agent.CopyFrom(proto)\n",
    "\n",
    "    def getSyms(sym):\n",
    "        return _dget[sym]()\n",
    "\n",
    "    def setSyms(sym, val):\n",
    "        global _value \n",
    "        _value = val\n",
    "        _dset[sym]()\n",
    "        \n",
    "    def debug():\n",
    "        print([id(key) for key in _dset.keys()])\n",
    "    \n"
   ]
  },
  {
   "cell_type": "code",
   "execution_count": 53,
   "metadata": {},
   "outputs": [
    {
     "data": {
      "text/plain": [
       "1.0"
      ]
     },
     "execution_count": 53,
     "metadata": {},
     "output_type": "execute_result"
    }
   ],
   "source": [
    "AgentSymsDataUpdat.updateSyms(agent)\n",
    "AgentSymsDataUpdat.setSyms(AgentSyms.data.location.y, 1)\n",
    "AgentSymsDataUpdat.getSyms(AgentSyms.data.location.y)"
   ]
  },
  {
   "cell_type": "code",
   "execution_count": 49,
   "metadata": {},
   "outputs": [
    {
     "data": {
      "text/plain": [
       "data {\n",
       "  location {\n",
       "    x: 1.0\n",
       "  }\n",
       "}\n",
       "queries {\n",
       "  key: \"happy\"\n",
       "  value {\n",
       "  }\n",
       "}"
      ]
     },
     "execution_count": 49,
     "metadata": {},
     "output_type": "execute_result"
    }
   ],
   "source": [
    "_agent"
   ]
  },
  {
   "cell_type": "code",
   "execution_count": 108,
   "metadata": {},
   "outputs": [
    {
     "data": {
      "text/plain": [
       "'AGENTSYMS_DATA_LOCATION_X'"
      ]
     },
     "execution_count": 108,
     "metadata": {},
     "output_type": "execute_result"
    }
   ],
   "source": [
    "AgentSyms.data.location.x"
   ]
  },
  {
   "cell_type": "code",
   "execution_count": null,
   "metadata": {},
   "outputs": [],
   "source": []
  }
 ],
 "metadata": {
  "kernelspec": {
   "display_name": "Python 3",
   "language": "python",
   "name": "python3"
  },
  "language_info": {
   "codemirror_mode": {
    "name": "ipython",
    "version": 3
   },
   "file_extension": ".py",
   "mimetype": "text/x-python",
   "name": "python",
   "nbconvert_exporter": "python",
   "pygments_lexer": "ipython3",
   "version": "3.6.7"
  }
 },
 "nbformat": 4,
 "nbformat_minor": 2
}
