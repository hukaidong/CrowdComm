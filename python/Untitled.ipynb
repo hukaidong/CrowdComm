{
 "cells": [
  {
   "cell_type": "code",
   "execution_count": 1,
   "metadata": {},
   "outputs": [],
   "source": [
    "import CrowdComm\n",
    "from CrowdComm.proto import *\n",
    "from CrowdComm.containable import ContainableT as CT\n",
    "from CrowdComm.numerable import NumerableT as NT"
   ]
  },
  {
   "cell_type": "code",
   "execution_count": 2,
   "metadata": {},
   "outputs": [],
   "source": [
    "with open(\"../model/proto/4-way-oncomming-square-obstacle.proto\", \"rb\") as f:\n",
    "    w = World.FromString(f.read())"
   ]
  },
  {
   "cell_type": "code",
   "execution_count": 3,
   "metadata": {
    "scrolled": false
   },
   "outputs": [],
   "source": [
    "def bookkeep(world):\n",
    "    d = {}\n",
    "    d.update({a.id: a for a in world.agents})\n",
    "    d.update({c.id: c for c in world.cubes})\n",
    "    return d\n",
    "\n",
    "d = bookkeep(w)"
   ]
  },
  {
   "cell_type": "code",
   "execution_count": 4,
   "metadata": {},
   "outputs": [],
   "source": [
    "class NumF(metaclass=NT):\n",
    "    pass\n",
    "\n",
    "class Vec3(metaclass=CT):\n",
    "    def ChildrenDefs(self):\n",
    "        self.defattr(\"x\", NumF)\n",
    "        self.defattr(\"y\", NumF)\n",
    "        self.defattr(\"z\", NumF)       \n",
    "        \n",
    "class AgentData(metaclass=CT):\n",
    "    def ChildrenDefs(self):\n",
    "        self.defattr(\"forwards\", Vec3)\n",
    "        self.defattr(\"location\", Vec3)\n",
    "        self.defattr(\"velocity\", Vec3)\n",
    "        self.defattr(\"target\", Vec3)\n",
    "        \n",
    "class Agent(metaclass=CT):\n",
    "    def ChildrenDefs(self):\n",
    "        self.defattr(\"data\", AgentData)"
   ]
  },
  {
   "cell_type": "code",
   "execution_count": 5,
   "metadata": {},
   "outputs": [],
   "source": [
    "agent1 = Agent('ba3230633e112dc26d6c92b055b3a307', lambda x: d[x], CrowdComm.universe.DelegateMethod.BY_IDX)\n",
    "agent2 = Agent('7d3209aefe431134200585f4ed8972a4', d, CrowdComm.universe.DelegateMethod.BY_IDX)"
   ]
  },
  {
   "cell_type": "code",
   "execution_count": 12,
   "metadata": {},
   "outputs": [],
   "source": [
    "agent1.data.target.x.assign(-10000)"
   ]
  },
  {
   "cell_type": "code",
   "execution_count": 13,
   "metadata": {},
   "outputs": [],
   "source": [
    "import numpy as np"
   ]
  },
  {
   "cell_type": "code",
   "execution_count": 17,
   "metadata": {},
   "outputs": [
    {
     "data": {
      "text/plain": [
       "array([-10000.0, 0.0, 30.0], dtype=object)"
      ]
     },
     "execution_count": 17,
     "metadata": {},
     "output_type": "execute_result"
    }
   ],
   "source": [
    "np.array([agent1.data.target.x, agent1.data.target.y, agent1.data.target.z])"
   ]
  },
  {
   "cell_type": "code",
   "execution_count": 18,
   "metadata": {},
   "outputs": [
    {
     "data": {
      "text/plain": [
       "array([-9999.0, 1.0, 31.0], dtype=object)"
      ]
     },
     "execution_count": 18,
     "metadata": {},
     "output_type": "execute_result"
    }
   ],
   "source": [
    "_ + 1"
   ]
  }
 ],
 "metadata": {
  "kernelspec": {
   "display_name": "Python 3",
   "language": "python",
   "name": "python3"
  },
  "language_info": {
   "codemirror_mode": {
    "name": "ipython",
    "version": 3
   },
   "file_extension": ".py",
   "mimetype": "text/x-python",
   "name": "python",
   "nbconvert_exporter": "python",
   "pygments_lexer": "ipython3",
   "version": "3.6.7"
  }
 },
 "nbformat": 4,
 "nbformat_minor": 2
}
